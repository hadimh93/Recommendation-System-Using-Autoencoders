{
  "cells": [
    {
      "cell_type": "markdown",
      "metadata": {
        "id": "1GKREZh2xgh9"
      },
      "source": [
        "**Recommendation System Using Autoencoders**"
      ]
    },
    {
      "cell_type": "markdown",
      "metadata": {
        "id": "cwJb6FYcxgiC"
      },
      "source": [
        "## Initial Setups"
      ]
    },
    {
      "cell_type": "code",
      "execution_count": null,
      "metadata": {
        "id": "M5ggGbKGxgiD"
      },
      "outputs": [],
      "source": [
        "#Required libraries\n",
        "import numpy as np                    #for numerical computation\n",
        "import pandas as pd                   #for data manipulation and analysis\n",
        "import matplotlib.pyplot as plt       #for data visualization"
      ]
    },
    {
      "cell_type": "markdown",
      "metadata": {
        "id": "CN-aeF46xgiE"
      },
      "source": [
        "## Business Understanding"
      ]
    },
    {
      "cell_type": "markdown",
      "metadata": {
        "id": "2NjK59PWxgiF"
      },
      "source": [
        "Academic Paper:\n",
        "\n",
        "Ferreira, D., Silva, S., Abelha, A., & Machado, J. (2020). Recommendation system using autoencoders. Applied Sciences, 10(16), 5510.\n",
        "\n",
        "Objectives of Recommendation Systems:\n",
        "\n",
        "- Increase the number of sales\n",
        "- Improve company’s revenue\n",
        "- Encourage engagement and activity on products and services\n",
        "- Gain competitive advantage\n",
        "- Calibrate user preferences\n",
        "- Make personalized recommendations\n",
        "\n",
        "\n",
        "Recommendation System at Target:\n",
        "\n",
        "https://www.forbes.com/sites/kashmirhill/2012/02/16/how-target-figured-out-a-teen-girl-was-pregnant-before-her-father-did/?sh=1e21f4ab6668\n"
      ]
    },
    {
      "cell_type": "markdown",
      "metadata": {
        "id": "ZhWlYP2mxgiF"
      },
      "source": [
        "## Import the Dataset"
      ]
    },
    {
      "cell_type": "markdown",
      "metadata": {
        "id": "ow3D-hrExgiG"
      },
      "source": [
        "MovieLens dataset:\n",
        "\n",
        "https://grouplens.org/datasets/movielens/"
      ]
    },
    {
      "cell_type": "code",
      "source": [
        "from google.colab import drive\n",
        "drive.mount('/content/drive')"
      ],
      "metadata": {
        "colab": {
          "base_uri": "https://localhost:8080/"
        },
        "id": "fswqOBZU7oi7",
        "outputId": "4eea51c6-39bf-475f-9e4d-3d9eb0704a22"
      },
      "execution_count": null,
      "outputs": [
        {
          "output_type": "stream",
          "name": "stdout",
          "text": [
            "Mounted at /content/drive\n"
          ]
        }
      ]
    },
    {
      "cell_type": "code",
      "source": [
        "path_movies = '/content/drive/MyDrive/Recommendation System/ml-25m/movies.dat'\n",
        "path_users = '/content/drive/MyDrive/Recommendation System/ml-25m/users.dat'\n",
        "path_ratings = '/content/drive/MyDrive/Recommendation System/ml-25m/ratings.dat'"
      ],
      "metadata": {
        "id": "Wgq7Ui2NLC8C"
      },
      "execution_count": null,
      "outputs": []
    },
    {
      "cell_type": "code",
      "source": [
        "data_behaviors = pd.read_csv(path_behaviors, sep='\\t', header=None, names=columns_behaviors)\n"
      ],
      "metadata": {
        "id": "llVybdHYL68k"
      },
      "execution_count": null,
      "outputs": []
    },
    {
      "cell_type": "code",
      "execution_count": null,
      "metadata": {
        "id": "qdA5F1G_xgiG",
        "colab": {
          "base_uri": "https://localhost:8080/",
          "height": 411
        },
        "outputId": "322c963a-3841-4dfb-e725-038920aad81e"
      },
      "outputs": [
        {
          "output_type": "stream",
          "name": "stderr",
          "text": [
            "/usr/local/lib/python3.7/dist-packages/IPython/core/interactiveshell.py:2882: FutureWarning: In a future version of pandas all arguments of read_csv except for the argument 'filepath_or_buffer' will be keyword-only\n",
            "  exec(code_obj, self.user_global_ns, self.user_ns)\n"
          ]
        },
        {
          "output_type": "error",
          "ename": "TypeError",
          "evalue": "ignored",
          "traceback": [
            "\u001b[0;31m---------------------------------------------------------------------------\u001b[0m",
            "\u001b[0;31mTypeError\u001b[0m                                 Traceback (most recent call last)",
            "\u001b[0;32m<ipython-input-12-d59c316f7c84>\u001b[0m in \u001b[0;36m<module>\u001b[0;34m()\u001b[0m\n\u001b[1;32m      2\u001b[0m \u001b[0;31m# --> Check README file\u001b[0m\u001b[0;34m\u001b[0m\u001b[0;34m\u001b[0m\u001b[0;34m\u001b[0m\u001b[0m\n\u001b[1;32m      3\u001b[0m \u001b[0;34m\u001b[0m\u001b[0m\n\u001b[0;32m----> 4\u001b[0;31m \u001b[0mmovies\u001b[0m  \u001b[0;34m=\u001b[0m \u001b[0mpd\u001b[0m\u001b[0;34m.\u001b[0m\u001b[0mread_csv\u001b[0m\u001b[0;34m(\u001b[0m\u001b[0mpath_movies\u001b[0m\u001b[0;34m,\u001b[0m\u001b[0;34m'movies.dat'\u001b[0m\u001b[0;34m,\u001b[0m \u001b[0msep\u001b[0m\u001b[0;34m=\u001b[0m\u001b[0;34m'\\t'\u001b[0m\u001b[0;34m,\u001b[0m \u001b[0mheader\u001b[0m \u001b[0;34m=\u001b[0m \u001b[0;32mNone\u001b[0m\u001b[0;34m,\u001b[0m \u001b[0mengine\u001b[0m \u001b[0;34m=\u001b[0m \u001b[0;34m'python'\u001b[0m\u001b[0;34m,\u001b[0m \u001b[0mencoding\u001b[0m \u001b[0;34m=\u001b[0m \u001b[0;34m'latin-1'\u001b[0m\u001b[0;34m)\u001b[0m\u001b[0;34m\u001b[0m\u001b[0;34m\u001b[0m\u001b[0m\n\u001b[0m\u001b[1;32m      5\u001b[0m \u001b[0musers\u001b[0m   \u001b[0;34m=\u001b[0m \u001b[0mpd\u001b[0m\u001b[0;34m.\u001b[0m\u001b[0mread_csv\u001b[0m\u001b[0;34m(\u001b[0m\u001b[0mpath_users\u001b[0m\u001b[0;34m,\u001b[0m\u001b[0;34m'users.dat'\u001b[0m\u001b[0;34m,\u001b[0m \u001b[0msep\u001b[0m\u001b[0;34m=\u001b[0m\u001b[0;34m'\\t'\u001b[0m\u001b[0;34m,\u001b[0m \u001b[0mheader\u001b[0m \u001b[0;34m=\u001b[0m \u001b[0;32mNone\u001b[0m\u001b[0;34m,\u001b[0m \u001b[0mengine\u001b[0m \u001b[0;34m=\u001b[0m \u001b[0;34m'python'\u001b[0m\u001b[0;34m,\u001b[0m \u001b[0mencoding\u001b[0m \u001b[0;34m=\u001b[0m \u001b[0;34m'latin-1'\u001b[0m\u001b[0;34m)\u001b[0m\u001b[0;34m\u001b[0m\u001b[0;34m\u001b[0m\u001b[0m\n\u001b[1;32m      6\u001b[0m \u001b[0mratings\u001b[0m \u001b[0;34m=\u001b[0m \u001b[0mpd\u001b[0m\u001b[0;34m.\u001b[0m\u001b[0mread_csv\u001b[0m\u001b[0;34m(\u001b[0m\u001b[0mpath_ratings\u001b[0m\u001b[0;34m,\u001b[0m\u001b[0;34m'ratings.dat'\u001b[0m\u001b[0;34m,\u001b[0m \u001b[0msep\u001b[0m\u001b[0;34m=\u001b[0m\u001b[0;34m'\\t'\u001b[0m\u001b[0;34m,\u001b[0m \u001b[0mheader\u001b[0m \u001b[0;34m=\u001b[0m \u001b[0;32mNone\u001b[0m\u001b[0;34m,\u001b[0m \u001b[0mengine\u001b[0m \u001b[0;34m=\u001b[0m \u001b[0;34m'python'\u001b[0m\u001b[0;34m,\u001b[0m \u001b[0mencoding\u001b[0m \u001b[0;34m=\u001b[0m \u001b[0;34m'latin-1'\u001b[0m\u001b[0;34m)\u001b[0m\u001b[0;34m\u001b[0m\u001b[0;34m\u001b[0m\u001b[0m\n",
            "\u001b[0;32m/usr/local/lib/python3.7/dist-packages/pandas/util/_decorators.py\u001b[0m in \u001b[0;36mwrapper\u001b[0;34m(*args, **kwargs)\u001b[0m\n\u001b[1;32m    309\u001b[0m                     \u001b[0mstacklevel\u001b[0m\u001b[0;34m=\u001b[0m\u001b[0mstacklevel\u001b[0m\u001b[0;34m,\u001b[0m\u001b[0;34m\u001b[0m\u001b[0;34m\u001b[0m\u001b[0m\n\u001b[1;32m    310\u001b[0m                 )\n\u001b[0;32m--> 311\u001b[0;31m             \u001b[0;32mreturn\u001b[0m \u001b[0mfunc\u001b[0m\u001b[0;34m(\u001b[0m\u001b[0;34m*\u001b[0m\u001b[0margs\u001b[0m\u001b[0;34m,\u001b[0m \u001b[0;34m**\u001b[0m\u001b[0mkwargs\u001b[0m\u001b[0;34m)\u001b[0m\u001b[0;34m\u001b[0m\u001b[0;34m\u001b[0m\u001b[0m\n\u001b[0m\u001b[1;32m    312\u001b[0m \u001b[0;34m\u001b[0m\u001b[0m\n\u001b[1;32m    313\u001b[0m         \u001b[0;32mreturn\u001b[0m \u001b[0mwrapper\u001b[0m\u001b[0;34m\u001b[0m\u001b[0;34m\u001b[0m\u001b[0m\n",
            "\u001b[0;31mTypeError\u001b[0m: read_csv() got multiple values for argument 'sep'"
          ]
        }
      ],
      "source": [
        "#Read dataset from files\n",
        "# --> Check README file\n",
        "\n",
        "movies  = pd.read_csv(path_movies,'movies.dat', sep='\\t', header = None, engine = 'python', encoding = 'latin-1')\n",
        "users   = pd.read_csv(path_users,'users.dat', sep='\\t', header = None, engine = 'python', encoding = 'latin-1')\n",
        "ratings = pd.read_csv(path_ratings,'ratings.dat', sep='\\t', header = None, engine = 'python', encoding = 'latin-1')"
      ]
    },
    {
      "cell_type": "code",
      "execution_count": null,
      "metadata": {
        "id": "-KfRXoYnxgiH",
        "outputId": "5ed01168-21c4-4f40-b26c-c8244b962dbc"
      },
      "outputs": [
        {
          "data": {
            "text/html": [
              "<div>\n",
              "<style scoped>\n",
              "    .dataframe tbody tr th:only-of-type {\n",
              "        vertical-align: middle;\n",
              "    }\n",
              "\n",
              "    .dataframe tbody tr th {\n",
              "        vertical-align: top;\n",
              "    }\n",
              "\n",
              "    .dataframe thead th {\n",
              "        text-align: right;\n",
              "    }\n",
              "</style>\n",
              "<table border=\"1\" class=\"dataframe\">\n",
              "  <thead>\n",
              "    <tr style=\"text-align: right;\">\n",
              "      <th></th>\n",
              "      <th>0</th>\n",
              "      <th>1</th>\n",
              "      <th>2</th>\n",
              "    </tr>\n",
              "  </thead>\n",
              "  <tbody>\n",
              "    <tr>\n",
              "      <th>0</th>\n",
              "      <td>1</td>\n",
              "      <td>Toy Story (1995)</td>\n",
              "      <td>Animation|Children's|Comedy</td>\n",
              "    </tr>\n",
              "    <tr>\n",
              "      <th>1</th>\n",
              "      <td>2</td>\n",
              "      <td>Jumanji (1995)</td>\n",
              "      <td>Adventure|Children's|Fantasy</td>\n",
              "    </tr>\n",
              "    <tr>\n",
              "      <th>2</th>\n",
              "      <td>3</td>\n",
              "      <td>Grumpier Old Men (1995)</td>\n",
              "      <td>Comedy|Romance</td>\n",
              "    </tr>\n",
              "    <tr>\n",
              "      <th>3</th>\n",
              "      <td>4</td>\n",
              "      <td>Waiting to Exhale (1995)</td>\n",
              "      <td>Comedy|Drama</td>\n",
              "    </tr>\n",
              "    <tr>\n",
              "      <th>4</th>\n",
              "      <td>5</td>\n",
              "      <td>Father of the Bride Part II (1995)</td>\n",
              "      <td>Comedy</td>\n",
              "    </tr>\n",
              "  </tbody>\n",
              "</table>\n",
              "</div>"
            ],
            "text/plain": [
              "   0                                   1                             2\n",
              "0  1                    Toy Story (1995)   Animation|Children's|Comedy\n",
              "1  2                      Jumanji (1995)  Adventure|Children's|Fantasy\n",
              "2  3             Grumpier Old Men (1995)                Comedy|Romance\n",
              "3  4            Waiting to Exhale (1995)                  Comedy|Drama\n",
              "4  5  Father of the Bride Part II (1995)                        Comedy"
            ]
          },
          "execution_count": 3,
          "metadata": {},
          "output_type": "execute_result"
        }
      ],
      "source": [
        "movies.head()"
      ]
    },
    {
      "cell_type": "code",
      "execution_count": null,
      "metadata": {
        "id": "X0NFPzByxgiI"
      },
      "outputs": [],
      "source": [
        "#MovieID::Title::Genres\n",
        "movies.rename(columns = {0 : 'movie_id', 1 : 'title', 2 : 'genres'}, inplace = True)"
      ]
    },
    {
      "cell_type": "code",
      "execution_count": null,
      "metadata": {
        "id": "-UPQkwAJxgiI",
        "outputId": "6b57b116-42d2-4abf-e8a6-2ce886e0b7b4"
      },
      "outputs": [
        {
          "data": {
            "text/html": [
              "<div>\n",
              "<style scoped>\n",
              "    .dataframe tbody tr th:only-of-type {\n",
              "        vertical-align: middle;\n",
              "    }\n",
              "\n",
              "    .dataframe tbody tr th {\n",
              "        vertical-align: top;\n",
              "    }\n",
              "\n",
              "    .dataframe thead th {\n",
              "        text-align: right;\n",
              "    }\n",
              "</style>\n",
              "<table border=\"1\" class=\"dataframe\">\n",
              "  <thead>\n",
              "    <tr style=\"text-align: right;\">\n",
              "      <th></th>\n",
              "      <th>movie_id</th>\n",
              "      <th>title</th>\n",
              "      <th>genres</th>\n",
              "    </tr>\n",
              "  </thead>\n",
              "  <tbody>\n",
              "    <tr>\n",
              "      <th>0</th>\n",
              "      <td>1</td>\n",
              "      <td>Toy Story (1995)</td>\n",
              "      <td>Animation|Children's|Comedy</td>\n",
              "    </tr>\n",
              "    <tr>\n",
              "      <th>1</th>\n",
              "      <td>2</td>\n",
              "      <td>Jumanji (1995)</td>\n",
              "      <td>Adventure|Children's|Fantasy</td>\n",
              "    </tr>\n",
              "    <tr>\n",
              "      <th>2</th>\n",
              "      <td>3</td>\n",
              "      <td>Grumpier Old Men (1995)</td>\n",
              "      <td>Comedy|Romance</td>\n",
              "    </tr>\n",
              "    <tr>\n",
              "      <th>3</th>\n",
              "      <td>4</td>\n",
              "      <td>Waiting to Exhale (1995)</td>\n",
              "      <td>Comedy|Drama</td>\n",
              "    </tr>\n",
              "    <tr>\n",
              "      <th>4</th>\n",
              "      <td>5</td>\n",
              "      <td>Father of the Bride Part II (1995)</td>\n",
              "      <td>Comedy</td>\n",
              "    </tr>\n",
              "  </tbody>\n",
              "</table>\n",
              "</div>"
            ],
            "text/plain": [
              "   movie_id                               title                        genres\n",
              "0         1                    Toy Story (1995)   Animation|Children's|Comedy\n",
              "1         2                      Jumanji (1995)  Adventure|Children's|Fantasy\n",
              "2         3             Grumpier Old Men (1995)                Comedy|Romance\n",
              "3         4            Waiting to Exhale (1995)                  Comedy|Drama\n",
              "4         5  Father of the Bride Part II (1995)                        Comedy"
            ]
          },
          "execution_count": 5,
          "metadata": {},
          "output_type": "execute_result"
        }
      ],
      "source": [
        "movies.head()"
      ]
    },
    {
      "cell_type": "code",
      "execution_count": null,
      "metadata": {
        "id": "wxPbBVDuxgiJ",
        "outputId": "cbc13afb-c23c-439e-81d5-e282fe4647dc"
      },
      "outputs": [
        {
          "data": {
            "text/plain": [
              "(3883, 3)"
            ]
          },
          "execution_count": 6,
          "metadata": {},
          "output_type": "execute_result"
        }
      ],
      "source": [
        "movies.shape"
      ]
    },
    {
      "cell_type": "code",
      "execution_count": null,
      "metadata": {
        "id": "PKhhk2vUxgiJ",
        "outputId": "f48daca1-1f19-4dce-ebf9-9937e8930236"
      },
      "outputs": [
        {
          "data": {
            "text/html": [
              "<div>\n",
              "<style scoped>\n",
              "    .dataframe tbody tr th:only-of-type {\n",
              "        vertical-align: middle;\n",
              "    }\n",
              "\n",
              "    .dataframe tbody tr th {\n",
              "        vertical-align: top;\n",
              "    }\n",
              "\n",
              "    .dataframe thead th {\n",
              "        text-align: right;\n",
              "    }\n",
              "</style>\n",
              "<table border=\"1\" class=\"dataframe\">\n",
              "  <thead>\n",
              "    <tr style=\"text-align: right;\">\n",
              "      <th></th>\n",
              "      <th>user_id</th>\n",
              "      <th>gender</th>\n",
              "      <th>age</th>\n",
              "      <th>occupation</th>\n",
              "      <th>zipcode</th>\n",
              "    </tr>\n",
              "  </thead>\n",
              "  <tbody>\n",
              "    <tr>\n",
              "      <th>0</th>\n",
              "      <td>1</td>\n",
              "      <td>F</td>\n",
              "      <td>1</td>\n",
              "      <td>10</td>\n",
              "      <td>48067</td>\n",
              "    </tr>\n",
              "    <tr>\n",
              "      <th>1</th>\n",
              "      <td>2</td>\n",
              "      <td>M</td>\n",
              "      <td>56</td>\n",
              "      <td>16</td>\n",
              "      <td>70072</td>\n",
              "    </tr>\n",
              "    <tr>\n",
              "      <th>2</th>\n",
              "      <td>3</td>\n",
              "      <td>M</td>\n",
              "      <td>25</td>\n",
              "      <td>15</td>\n",
              "      <td>55117</td>\n",
              "    </tr>\n",
              "    <tr>\n",
              "      <th>3</th>\n",
              "      <td>4</td>\n",
              "      <td>M</td>\n",
              "      <td>45</td>\n",
              "      <td>7</td>\n",
              "      <td>02460</td>\n",
              "    </tr>\n",
              "    <tr>\n",
              "      <th>4</th>\n",
              "      <td>5</td>\n",
              "      <td>M</td>\n",
              "      <td>25</td>\n",
              "      <td>20</td>\n",
              "      <td>55455</td>\n",
              "    </tr>\n",
              "  </tbody>\n",
              "</table>\n",
              "</div>"
            ],
            "text/plain": [
              "   user_id gender  age  occupation zipcode\n",
              "0        1      F    1          10   48067\n",
              "1        2      M   56          16   70072\n",
              "2        3      M   25          15   55117\n",
              "3        4      M   45           7   02460\n",
              "4        5      M   25          20   55455"
            ]
          },
          "execution_count": 7,
          "metadata": {},
          "output_type": "execute_result"
        }
      ],
      "source": [
        "#UserID::Gender::Age::Occupation::Zip-code\n",
        "users.rename(columns = {0 : 'user_id', 1 : 'gender', 2 : 'age', 3 : 'occupation', 4 : 'zipcode'},\n",
        "             inplace = True)\n",
        "users.head()"
      ]
    },
    {
      "cell_type": "code",
      "execution_count": null,
      "metadata": {
        "id": "G-3syqDRxgiK",
        "outputId": "8a4191eb-5b5e-407f-8643-1610c210471c"
      },
      "outputs": [
        {
          "data": {
            "text/plain": [
              "(6040, 5)"
            ]
          },
          "execution_count": 8,
          "metadata": {},
          "output_type": "execute_result"
        }
      ],
      "source": [
        "users.shape"
      ]
    },
    {
      "cell_type": "code",
      "execution_count": null,
      "metadata": {
        "id": "b3ao4DROxgiK",
        "outputId": "db9dcf20-605e-4525-d9e3-ca59cf6f4751"
      },
      "outputs": [
        {
          "data": {
            "text/html": [
              "<div>\n",
              "<style scoped>\n",
              "    .dataframe tbody tr th:only-of-type {\n",
              "        vertical-align: middle;\n",
              "    }\n",
              "\n",
              "    .dataframe tbody tr th {\n",
              "        vertical-align: top;\n",
              "    }\n",
              "\n",
              "    .dataframe thead th {\n",
              "        text-align: right;\n",
              "    }\n",
              "</style>\n",
              "<table border=\"1\" class=\"dataframe\">\n",
              "  <thead>\n",
              "    <tr style=\"text-align: right;\">\n",
              "      <th></th>\n",
              "      <th>user_id</th>\n",
              "      <th>movie_id</th>\n",
              "      <th>rating</th>\n",
              "      <th>timestamp</th>\n",
              "    </tr>\n",
              "  </thead>\n",
              "  <tbody>\n",
              "    <tr>\n",
              "      <th>0</th>\n",
              "      <td>1</td>\n",
              "      <td>1193</td>\n",
              "      <td>5</td>\n",
              "      <td>978300760</td>\n",
              "    </tr>\n",
              "    <tr>\n",
              "      <th>1</th>\n",
              "      <td>1</td>\n",
              "      <td>661</td>\n",
              "      <td>3</td>\n",
              "      <td>978302109</td>\n",
              "    </tr>\n",
              "    <tr>\n",
              "      <th>2</th>\n",
              "      <td>1</td>\n",
              "      <td>914</td>\n",
              "      <td>3</td>\n",
              "      <td>978301968</td>\n",
              "    </tr>\n",
              "    <tr>\n",
              "      <th>3</th>\n",
              "      <td>1</td>\n",
              "      <td>3408</td>\n",
              "      <td>4</td>\n",
              "      <td>978300275</td>\n",
              "    </tr>\n",
              "    <tr>\n",
              "      <th>4</th>\n",
              "      <td>1</td>\n",
              "      <td>2355</td>\n",
              "      <td>5</td>\n",
              "      <td>978824291</td>\n",
              "    </tr>\n",
              "  </tbody>\n",
              "</table>\n",
              "</div>"
            ],
            "text/plain": [
              "   user_id  movie_id  rating  timestamp\n",
              "0        1      1193       5  978300760\n",
              "1        1       661       3  978302109\n",
              "2        1       914       3  978301968\n",
              "3        1      3408       4  978300275\n",
              "4        1      2355       5  978824291"
            ]
          },
          "execution_count": 9,
          "metadata": {},
          "output_type": "execute_result"
        }
      ],
      "source": [
        "#UserID::MovieID::Rating::Timestamp\n",
        "ratings.rename(columns = {0 : 'user_id', 1 : 'movie_id', 2 : 'rating', 3 : 'timestamp'},\n",
        "               inplace = True)\n",
        "\n",
        "ratings.head()"
      ]
    },
    {
      "cell_type": "code",
      "execution_count": null,
      "metadata": {
        "id": "RIsYjdh-xgiK",
        "outputId": "5679bc0e-56ce-400c-d4d2-cdeafe442ecb"
      },
      "outputs": [
        {
          "data": {
            "text/plain": [
              "datetime.datetime(2001, 1, 1, 1, 42, 40)"
            ]
          },
          "execution_count": 10,
          "metadata": {},
          "output_type": "execute_result"
        }
      ],
      "source": [
        "#A Unix timestamp is the number of seconds between a particular date and January 1, 1970 at UTC.\n",
        "from datetime import datetime\n",
        "datetime.fromtimestamp(ratings['timestamp'][0])"
      ]
    },
    {
      "cell_type": "code",
      "execution_count": null,
      "metadata": {
        "id": "xyAWWjtUxgiL",
        "outputId": "cddd1b20-a0bf-482e-991d-5b4fee31b5a9"
      },
      "outputs": [
        {
          "data": {
            "text/plain": [
              "(1000209, 4)"
            ]
          },
          "execution_count": 11,
          "metadata": {},
          "output_type": "execute_result"
        }
      ],
      "source": [
        "ratings.shape"
      ]
    },
    {
      "cell_type": "code",
      "execution_count": null,
      "metadata": {
        "id": "vryv007VxgiL",
        "outputId": "ce9f8a49-d7ff-4f2b-ae73-e306be23948f"
      },
      "outputs": [
        {
          "data": {
            "text/plain": [
              "6040"
            ]
          },
          "execution_count": 12,
          "metadata": {},
          "output_type": "execute_result"
        }
      ],
      "source": [
        "np.unique(ratings['user_id']).shape[0]"
      ]
    },
    {
      "cell_type": "code",
      "execution_count": null,
      "metadata": {
        "id": "y3QfIERMxgiL",
        "outputId": "a81d9527-12c8-467e-d84d-a1efc2a3a8ab"
      },
      "outputs": [
        {
          "data": {
            "text/plain": [
              "3706"
            ]
          },
          "execution_count": 13,
          "metadata": {},
          "output_type": "execute_result"
        }
      ],
      "source": [
        "np.unique(ratings['movie_id']).shape[0]"
      ]
    },
    {
      "cell_type": "code",
      "execution_count": null,
      "metadata": {
        "id": "jijmVhmxxgiM",
        "outputId": "62ff4e2c-8c2c-4ed2-a90d-797ce4a429b2"
      },
      "outputs": [
        {
          "name": "stdout",
          "output_type": "stream",
          "text": [
            "3952\n",
            "3952\n"
          ]
        }
      ],
      "source": [
        "print(np.max(ratings['movie_id']))\n",
        "print(np.max(movies['movie_id']))"
      ]
    },
    {
      "cell_type": "code",
      "execution_count": null,
      "metadata": {
        "id": "QX09yizixgiM",
        "outputId": "03d2f15f-e37a-43b8-8b3d-c434f0cc9553"
      },
      "outputs": [
        {
          "data": {
            "text/plain": [
              "0"
            ]
          },
          "execution_count": 15,
          "metadata": {},
          "output_type": "execute_result"
        }
      ],
      "source": [
        "#Check duplicates\n",
        "np.sum(ratings.duplicated(subset = ['user_id', 'movie_id'], keep = False))"
      ]
    },
    {
      "cell_type": "markdown",
      "metadata": {
        "id": "ZgyXNlZ4xgiM"
      },
      "source": [
        "## Data Prepration"
      ]
    },
    {
      "cell_type": "code",
      "execution_count": null,
      "metadata": {
        "id": "oxqgvNR0xgiN"
      },
      "outputs": [],
      "source": [
        "#Scale ratings\n",
        "ratings['scaled_rating'] = ((ratings['rating'] - ratings['rating'].min()) + 0.5) / (ratings['rating'].max() - ratings['rating'].min() + 0.5)"
      ]
    },
    {
      "cell_type": "code",
      "execution_count": null,
      "metadata": {
        "id": "ciGJVtSuxgiO",
        "outputId": "1e0158ee-7e93-44d5-d324-11bc114fa9c4"
      },
      "outputs": [
        {
          "data": {
            "text/html": [
              "<div>\n",
              "<style scoped>\n",
              "    .dataframe tbody tr th:only-of-type {\n",
              "        vertical-align: middle;\n",
              "    }\n",
              "\n",
              "    .dataframe tbody tr th {\n",
              "        vertical-align: top;\n",
              "    }\n",
              "\n",
              "    .dataframe thead th {\n",
              "        text-align: right;\n",
              "    }\n",
              "</style>\n",
              "<table border=\"1\" class=\"dataframe\">\n",
              "  <thead>\n",
              "    <tr style=\"text-align: right;\">\n",
              "      <th></th>\n",
              "      <th>user_id</th>\n",
              "      <th>movie_id</th>\n",
              "      <th>rating</th>\n",
              "      <th>timestamp</th>\n",
              "      <th>scaled_rating</th>\n",
              "    </tr>\n",
              "  </thead>\n",
              "  <tbody>\n",
              "    <tr>\n",
              "      <th>0</th>\n",
              "      <td>1</td>\n",
              "      <td>1193</td>\n",
              "      <td>5</td>\n",
              "      <td>978300760</td>\n",
              "      <td>1.000000</td>\n",
              "    </tr>\n",
              "    <tr>\n",
              "      <th>1</th>\n",
              "      <td>1</td>\n",
              "      <td>661</td>\n",
              "      <td>3</td>\n",
              "      <td>978302109</td>\n",
              "      <td>0.555556</td>\n",
              "    </tr>\n",
              "    <tr>\n",
              "      <th>2</th>\n",
              "      <td>1</td>\n",
              "      <td>914</td>\n",
              "      <td>3</td>\n",
              "      <td>978301968</td>\n",
              "      <td>0.555556</td>\n",
              "    </tr>\n",
              "    <tr>\n",
              "      <th>3</th>\n",
              "      <td>1</td>\n",
              "      <td>3408</td>\n",
              "      <td>4</td>\n",
              "      <td>978300275</td>\n",
              "      <td>0.777778</td>\n",
              "    </tr>\n",
              "    <tr>\n",
              "      <th>4</th>\n",
              "      <td>1</td>\n",
              "      <td>2355</td>\n",
              "      <td>5</td>\n",
              "      <td>978824291</td>\n",
              "      <td>1.000000</td>\n",
              "    </tr>\n",
              "  </tbody>\n",
              "</table>\n",
              "</div>"
            ],
            "text/plain": [
              "   user_id  movie_id  rating  timestamp  scaled_rating\n",
              "0        1      1193       5  978300760       1.000000\n",
              "1        1       661       3  978302109       0.555556\n",
              "2        1       914       3  978301968       0.555556\n",
              "3        1      3408       4  978300275       0.777778\n",
              "4        1      2355       5  978824291       1.000000"
            ]
          },
          "execution_count": 17,
          "metadata": {},
          "output_type": "execute_result"
        }
      ],
      "source": [
        "ratings.head()"
      ]
    },
    {
      "cell_type": "code",
      "execution_count": null,
      "metadata": {
        "id": "NTwcsXp4xgiO",
        "outputId": "3e5920fd-eab8-4561-de46-7385923db7b2"
      },
      "outputs": [
        {
          "data": {
            "text/plain": [
              "0.777778    348971\n",
              "0.555556    261197\n",
              "1.000000    226310\n",
              "0.333333    107557\n",
              "0.111111     56174\n",
              "Name: scaled_rating, dtype: int64"
            ]
          },
          "execution_count": 18,
          "metadata": {},
          "output_type": "execute_result"
        }
      ],
      "source": [
        "ratings['scaled_rating'].value_counts()"
      ]
    },
    {
      "cell_type": "code",
      "execution_count": null,
      "metadata": {
        "id": "b55Jm6QCxgiP"
      },
      "outputs": [],
      "source": [
        "data = np.zeros((users.shape[0], max(ratings['movie_id'])))"
      ]
    },
    {
      "cell_type": "code",
      "execution_count": null,
      "metadata": {
        "id": "oC61bUIwxgiP",
        "outputId": "75590b5f-602a-4b47-e733-e7c7706525fb"
      },
      "outputs": [
        {
          "data": {
            "text/plain": [
              "(6040, 3952)"
            ]
          },
          "execution_count": 20,
          "metadata": {},
          "output_type": "execute_result"
        }
      ],
      "source": [
        "data.shape"
      ]
    },
    {
      "cell_type": "code",
      "execution_count": null,
      "metadata": {
        "id": "qDga1Zb8xgiP"
      },
      "outputs": [],
      "source": [
        "for user_id in users['user_id']:\n",
        "    movie_id = ratings.loc[ratings['user_id'] == user_id, 'movie_id']\n",
        "    user_rating = ratings.loc[ratings['user_id'] == user_id, 'scaled_rating']\n",
        "    data[user_id - 1, movie_id - 1] = user_rating"
      ]
    },
    {
      "cell_type": "code",
      "execution_count": null,
      "metadata": {
        "id": "47qjMx5PxgiQ",
        "outputId": "4ee98046-78b5-49c1-b96d-c422b78cb5ba"
      },
      "outputs": [
        {
          "data": {
            "text/plain": [
              "95.8097794393651"
            ]
          },
          "execution_count": 22,
          "metadata": {},
          "output_type": "execute_result"
        }
      ],
      "source": [
        "#Measure sparsity of data\n",
        "np.sum(data == 0) / (data.shape[0] * data.shape[1]) * 100"
      ]
    },
    {
      "cell_type": "code",
      "execution_count": null,
      "metadata": {
        "id": "gCWKP_DaxgiQ",
        "outputId": "213b03f6-3253-4cad-9039-236edf8c8b99"
      },
      "outputs": [
        {
          "data": {
            "text/plain": [
              "0"
            ]
          },
          "execution_count": 23,
          "metadata": {},
          "output_type": "execute_result"
        }
      ],
      "source": [
        "#Find users with less than 20 reviews\n",
        "np.sum(np.sum(data > 0, axis = 1) < 20)"
      ]
    },
    {
      "cell_type": "code",
      "execution_count": null,
      "metadata": {
        "id": "dbvLrGvcxgiQ",
        "outputId": "e7ee0b58-d514-4a6d-ca91-1e5d774fce95"
      },
      "outputs": [
        {
          "data": {
            "text/plain": [
              "909"
            ]
          },
          "execution_count": 24,
          "metadata": {},
          "output_type": "execute_result"
        }
      ],
      "source": [
        "#Find items with less than 20 reviews\n",
        "np.sum(np.sum(data > 0, axis = 0) < 20)"
      ]
    },
    {
      "cell_type": "code",
      "execution_count": null,
      "metadata": {
        "id": "7uhjNeJdxgiQ",
        "outputId": "716f92e2-4f71-4545-d14b-f36bf69402fd"
      },
      "outputs": [
        {
          "data": {
            "text/plain": [
              "(array([  32,   36,   50,   52,   55,   58,   66,   74,   89,   90,   95,\n",
              "          97,  105,  107,  108,  113,  114,  118,  119,  123,  126,  127,\n",
              "         128,  129,  130,  132,  133,  135,  136,  137,  138,  141,  142,\n",
              "         145,  166,  177,  188,  191,  196,  199,  211,  220,  225,  227,\n",
              "         242,  243,  244,  250,  263,  282,  283,  284,  285,  309,  310,\n",
              "         322,  335,  358,  374,  384,  393,  394,  395,  396,  397,  398,\n",
              "         399,  400,  401,  402,  403,  405,  410,  438,  502,  525,  529,\n",
              "         544,  556,  558,  559,  560,  562,  565,  566,  571,  575,  577,\n",
              "         578,  581,  583,  590,  597,  600,  603,  606,  613,  616,  617,\n",
              "         619,  621,  622,  623,  624,  625,  628,  629,  631,  633,  635,\n",
              "         637,  640,  641,  642,  643,  645,  648,  650,  651,  653,  654,\n",
              "         656,  657,  659,  663,  665,  671,  674,  675,  676,  678,  680,\n",
              "         681,  682,  683,  685,  686,  688,  689,  692,  695,  697,  698,\n",
              "         700,  702,  705,  711,  712,  716,  720,  722,  725,  726,  728,\n",
              "         729,  731,  733,  737,  738,  739,  743,  748,  750,  751,  753,\n",
              "         754,  755,  756,  757,  762,  767,  768,  769,  770,  771,  772,\n",
              "         773,  774,  775,  776,  786,  788,  789,  790,  791,  792,  793,\n",
              "         794,  795,  796,  806,  810,  811,  813,  814,  815,  816,  818,\n",
              "         819,  820,  821,  822,  824,  825,  826,  833,  842,  843,  844,\n",
              "         846,  852,  853,  854,  855,  856,  858,  859,  862,  863,  864,\n",
              "         867,  870,  871,  872,  873,  877,  882,  883,  886,  888,  889,\n",
              "         893,  894,  924,  938,  957,  961,  965,  971,  973,  974,  976,\n",
              "         978,  979,  980,  982,  984,  988,  992,  994, 1000, 1001, 1025,\n",
              "        1037, 1038, 1039, 1044, 1047, 1051, 1054, 1057, 1061, 1064, 1069,\n",
              "        1070, 1071, 1073, 1074, 1086, 1097, 1101, 1105, 1106, 1107, 1108,\n",
              "        1109, 1114, 1115, 1116, 1117, 1120, 1121, 1132, 1133, 1136, 1137,\n",
              "        1138, 1139, 1140, 1141, 1142, 1143, 1144, 1145, 1148, 1152, 1153,\n",
              "        1154, 1155, 1156, 1157, 1158, 1159, 1162, 1163, 1164, 1165, 1167,\n",
              "        1169, 1173, 1180, 1181, 1194, 1228, 1238, 1307, 1308, 1310, 1312,\n",
              "        1313, 1314, 1315, 1317, 1318, 1337, 1348, 1359, 1363, 1367, 1368,\n",
              "        1382, 1383, 1385, 1399, 1401, 1402, 1417, 1419, 1422, 1423, 1429,\n",
              "        1432, 1433, 1434, 1435, 1442, 1443, 1447, 1449, 1450, 1451, 1461,\n",
              "        1466, 1468, 1469, 1470, 1477, 1480, 1485, 1490, 1491, 1492, 1493,\n",
              "        1500, 1501, 1503, 1504, 1505, 1509, 1511, 1513, 1518, 1519, 1520,\n",
              "        1521, 1523, 1527, 1529, 1530, 1531, 1533, 1535, 1537, 1538, 1539,\n",
              "        1542, 1547, 1548, 1552, 1554, 1556, 1557, 1558, 1559, 1560, 1564,\n",
              "        1566, 1567, 1573, 1574, 1575, 1576, 1577, 1578, 1606, 1617, 1621,\n",
              "        1627, 1629, 1633, 1635, 1636, 1637, 1650, 1651, 1655, 1658, 1663,\n",
              "        1674, 1684, 1690, 1696, 1697, 1699, 1704, 1705, 1707, 1708, 1709,\n",
              "        1711, 1713, 1714, 1715, 1717, 1719, 1722, 1723, 1735, 1736, 1737,\n",
              "        1739, 1740, 1741, 1742, 1744, 1748, 1750, 1756, 1760, 1762, 1763,\n",
              "        1764, 1765, 1767, 1769, 1772, 1773, 1774, 1775, 1777, 1779, 1780,\n",
              "        1781, 1785, 1786, 1788, 1789, 1792, 1794, 1795, 1799, 1801, 1802,\n",
              "        1806, 1807, 1810, 1812, 1814, 1816, 1817, 1818, 1819, 1822, 1827,\n",
              "        1829, 1831, 1837, 1841, 1842, 1846, 1848, 1849, 1850, 1851, 1852,\n",
              "        1860, 1863, 1867, 1870, 1871, 1876, 1877, 1885, 1889, 1890, 1897,\n",
              "        1898, 1900, 1902, 1904, 1907, 1914, 1929, 1988, 1989, 2007, 2029,\n",
              "        2038, 2055, 2060, 2062, 2078, 2100, 2126, 2128, 2155, 2171, 2174,\n",
              "        2184, 2190, 2191, 2196, 2197, 2198, 2199, 2206, 2208, 2210, 2212,\n",
              "        2213, 2214, 2215, 2216, 2217, 2218, 2219, 2220, 2221, 2222, 2223,\n",
              "        2224, 2225, 2227, 2228, 2229, 2232, 2233, 2234, 2241, 2243, 2245,\n",
              "        2250, 2253, 2256, 2257, 2269, 2273, 2276, 2280, 2297, 2298, 2303,\n",
              "        2307, 2308, 2316, 2318, 2325, 2331, 2341, 2342, 2349, 2357, 2387,\n",
              "        2414, 2437, 2443, 2451, 2463, 2465, 2479, 2483, 2485, 2486, 2488,\n",
              "        2502, 2507, 2508, 2509, 2511, 2533, 2537, 2542, 2543, 2544, 2546,\n",
              "        2555, 2556, 2561, 2562, 2563, 2568, 2575, 2577, 2583, 2587, 2590,\n",
              "        2591, 2594, 2600, 2601, 2602, 2603, 2607, 2618, 2622, 2626, 2630,\n",
              "        2631, 2635, 2657, 2672, 2674, 2678, 2679, 2683, 2684, 2694, 2697,\n",
              "        2702, 2704, 2739, 2741, 2753, 2759, 2764, 2767, 2772, 2774, 2775,\n",
              "        2776, 2782, 2810, 2813, 2820, 2822, 2823, 2824, 2829, 2830, 2831,\n",
              "        2832, 2833, 2837, 2838, 2844, 2849, 2853, 2854, 2868, 2886, 2891,\n",
              "        2894, 2903, 2908, 2909, 2910, 2912, 2913, 2922, 2929, 2930, 2932,\n",
              "        2933, 2953, 2954, 2956, 2957, 2959, 2961, 2962, 2963, 2979, 2980,\n",
              "        2983, 2993, 2997, 2998, 3000, 3002, 3008, 3011, 3022, 3024, 3025,\n",
              "        3026, 3046, 3049, 3055, 3056, 3057, 3058, 3064, 3079, 3083, 3084,\n",
              "        3115, 3118, 3120, 3122, 3125, 3130, 3135, 3136, 3138, 3139, 3148,\n",
              "        3150, 3153, 3160, 3163, 3165, 3169, 3171, 3183, 3186, 3190, 3192,\n",
              "        3194, 3201, 3204, 3206, 3208, 3211, 3214, 3215, 3219, 3225, 3226,\n",
              "        3227, 3228, 3230, 3231, 3232, 3233, 3235, 3236, 3241, 3244, 3276,\n",
              "        3277, 3278, 3279, 3281, 3282, 3287, 3289, 3290, 3291, 3292, 3293,\n",
              "        3294, 3296, 3302, 3304, 3311, 3313, 3314, 3320, 3321, 3322, 3331,\n",
              "        3332, 3334, 3335, 3336, 3345, 3347, 3350, 3351, 3352, 3355, 3368,\n",
              "        3372, 3373, 3375, 3376, 3377, 3379, 3380, 3381, 3382, 3406, 3409,\n",
              "        3410, 3412, 3418, 3436, 3442, 3454, 3457, 3459, 3462, 3464, 3471,\n",
              "        3473, 3481, 3484, 3485, 3489, 3491, 3492, 3494, 3516, 3521, 3522,\n",
              "        3529, 3532, 3540, 3541, 3557, 3559, 3560, 3562, 3569, 3573, 3574,\n",
              "        3580, 3581, 3582, 3584, 3588, 3591, 3594, 3600, 3602, 3606, 3608,\n",
              "        3610, 3620, 3624, 3629, 3630, 3635, 3639, 3640, 3641, 3643, 3644,\n",
              "        3646, 3647, 3649, 3650, 3651, 3655, 3656, 3665, 3686, 3721, 3747,\n",
              "        3749, 3756, 3761, 3771, 3776, 3777, 3778, 3795, 3799, 3802, 3814,\n",
              "        3816, 3817, 3827, 3828, 3841, 3849, 3852, 3855, 3859, 3865, 3866,\n",
              "        3874, 3875, 3877, 3879, 3880, 3882, 3886, 3887, 3889, 3890, 3891,\n",
              "        3898, 3903, 3904, 3906, 3932, 3939, 3943], dtype=int64),)"
            ]
          },
          "execution_count": 25,
          "metadata": {},
          "output_type": "execute_result"
        }
      ],
      "source": [
        "rm_movies_indx = np.where(np.sum(data > 0, axis = 0) < 20)\n",
        "rm_movies_indx"
      ]
    },
    {
      "cell_type": "code",
      "execution_count": null,
      "metadata": {
        "id": "vYuhxmuexgiR"
      },
      "outputs": [],
      "source": [
        "#Remove items with less than 20 reviews\n",
        "data = np.delete(data, rm_movies_indx[0], axis = 1)"
      ]
    },
    {
      "cell_type": "code",
      "execution_count": null,
      "metadata": {
        "id": "APYUwm7AxgiR",
        "outputId": "b588d86f-3eee-4d7c-9702-d921491d0ab3"
      },
      "outputs": [
        {
          "data": {
            "text/plain": [
              "(6040, 3043)"
            ]
          },
          "execution_count": 27,
          "metadata": {},
          "output_type": "execute_result"
        }
      ],
      "source": [
        "data.shape"
      ]
    },
    {
      "cell_type": "code",
      "execution_count": null,
      "metadata": {
        "id": "LhlBpcXwxgiR",
        "outputId": "ac51341e-57be-4ce9-906e-8b645148a771"
      },
      "outputs": [
        {
          "data": {
            "text/plain": [
              "(3043,)"
            ]
          },
          "execution_count": 28,
          "metadata": {},
          "output_type": "execute_result"
        }
      ],
      "source": [
        "movies_indx = np.delete(np.arange(0, np.max(movies['movie_id'])), rm_movies_indx[0])\n",
        "movies_indx.shape"
      ]
    },
    {
      "cell_type": "code",
      "execution_count": null,
      "metadata": {
        "id": "hAZ-8o-gxgiR"
      },
      "outputs": [],
      "source": [
        "#Devide dataset into train and test\n",
        "from sklearn.model_selection import train_test_split\n",
        "X_train, X_test = train_test_split(data, test_size = 0.3, random_state = 123)"
      ]
    },
    {
      "cell_type": "code",
      "execution_count": null,
      "metadata": {
        "id": "NQX_GADrxgiS",
        "outputId": "bae4aafd-88fa-4c6a-f3e5-27efd672ac59"
      },
      "outputs": [
        {
          "data": {
            "text/plain": [
              "(4228, 3043)"
            ]
          },
          "execution_count": 30,
          "metadata": {},
          "output_type": "execute_result"
        }
      ],
      "source": [
        "X_train.shape"
      ]
    },
    {
      "cell_type": "code",
      "execution_count": null,
      "metadata": {
        "id": "MnIqoMHUxgiS",
        "outputId": "fad074d6-2001-47d8-a5fd-59359ad1d20e"
      },
      "outputs": [
        {
          "data": {
            "text/plain": [
              "(1812, 3043)"
            ]
          },
          "execution_count": 31,
          "metadata": {},
          "output_type": "execute_result"
        }
      ],
      "source": [
        "X_test.shape"
      ]
    },
    {
      "cell_type": "markdown",
      "metadata": {
        "id": "QHpXH1C4xgiS"
      },
      "source": [
        "## Biuld Deep Learning Model"
      ]
    },
    {
      "cell_type": "markdown",
      "metadata": {
        "id": "xC2swJ7dxgiS"
      },
      "source": [
        "### Base Model "
      ]
    },
    {
      "cell_type": "code",
      "execution_count": null,
      "metadata": {
        "id": "GjKpTvFDxgiS"
      },
      "outputs": [],
      "source": [
        "#Import Keras\n",
        "from tensorflow import keras"
      ]
    },
    {
      "cell_type": "code",
      "execution_count": null,
      "metadata": {
        "id": "nPNOYVowxgiS",
        "outputId": "1e212c02-08c1-457d-ac9f-97434d30fe4c"
      },
      "outputs": [
        {
          "name": "stdout",
          "output_type": "stream",
          "text": [
            "Model: \"sequential_2\"\n",
            "_________________________________________________________________\n",
            "Layer (type)                 Output Shape              Param #   \n",
            "=================================================================\n",
            "sequential (Sequential)      (None, 256)               779264    \n",
            "_________________________________________________________________\n",
            "sequential_1 (Sequential)    (None, 3043)              782051    \n",
            "=================================================================\n",
            "Total params: 1,561,315\n",
            "Trainable params: 1,561,315\n",
            "Non-trainable params: 0\n",
            "_________________________________________________________________\n"
          ]
        }
      ],
      "source": [
        "#Define the Model Architecture\n",
        "#Encoder\n",
        "model_b_encoder = keras.models.Sequential()\n",
        "weight_initializer = keras.initializers.HeNormal()\n",
        "model_b_encoder.add(keras.layers.Dense(256, \n",
        "                                       input_dim = int(X_train.shape[1]), \n",
        "                                       activation = \"tanh\", \n",
        "                                       kernel_initializer = weight_initializer))\n",
        "\n",
        "#Decoder\n",
        "model_b_decoder = keras.models.Sequential()\n",
        "model_b_decoder.add(keras.layers.Dense(int(X_train.shape[1]),\n",
        "                                       input_dim = 256,\n",
        "                                       activation = \"sigmoid\", \n",
        "                                       kernel_initializer = weight_initializer))\n",
        "\n",
        "#Auto-encoder\n",
        "model_b_ae = keras.models.Sequential([model_b_encoder, model_b_decoder])\n",
        "model_b_ae.summary()"
      ]
    },
    {
      "cell_type": "code",
      "execution_count": null,
      "metadata": {
        "id": "9OFLw5VxxgiT"
      },
      "outputs": [],
      "source": [
        "#Configure the model\n",
        "opt = keras.optimizers.Adam(learning_rate = 0.001) #learning rate\n",
        "model_b_ae.compile(optimizer = opt, loss = 'mean_squared_error')"
      ]
    },
    {
      "cell_type": "code",
      "execution_count": null,
      "metadata": {
        "id": "98234valxgiT",
        "outputId": "3579acc3-470c-4dc4-fb1d-373fe2df92a2"
      },
      "outputs": [
        {
          "name": "stdout",
          "output_type": "stream",
          "text": [
            "Epoch 1/50\n",
            "212/212 [==============================] - 4s 16ms/step - loss: 0.0741 - val_loss: 0.0249\n",
            "Epoch 2/50\n",
            "212/212 [==============================] - 2s 11ms/step - loss: 0.0234 - val_loss: 0.0225\n",
            "Epoch 3/50\n",
            "212/212 [==============================] - 2s 12ms/step - loss: 0.0215 - val_loss: 0.0207\n",
            "Epoch 4/50\n",
            "212/212 [==============================] - 3s 12ms/step - loss: 0.0198 - val_loss: 0.0195\n",
            "Epoch 5/50\n",
            "212/212 [==============================] - 2s 11ms/step - loss: 0.0194 - val_loss: 0.0186\n",
            "Epoch 6/50\n",
            "212/212 [==============================] - 3s 12ms/step - loss: 0.0176 - val_loss: 0.0179\n",
            "Epoch 7/50\n",
            "212/212 [==============================] - 2s 12ms/step - loss: 0.0175 - val_loss: 0.0173\n",
            "Epoch 8/50\n",
            "212/212 [==============================] - 2s 11ms/step - loss: 0.0160 - val_loss: 0.0169\n",
            "Epoch 9/50\n",
            "212/212 [==============================] - 3s 12ms/step - loss: 0.0148 - val_loss: 0.0165\n",
            "Epoch 10/50\n",
            "212/212 [==============================] - 3s 13ms/step - loss: 0.0146 - val_loss: 0.0162\n",
            "Epoch 11/50\n",
            "212/212 [==============================] - 2s 11ms/step - loss: 0.0143 - val_loss: 0.0159\n",
            "Epoch 12/50\n",
            "212/212 [==============================] - 3s 13ms/step - loss: 0.0138 - val_loss: 0.0157\n",
            "Epoch 13/50\n",
            "212/212 [==============================] - 3s 12ms/step - loss: 0.0134 - val_loss: 0.0155\n",
            "Epoch 14/50\n",
            "212/212 [==============================] - 2s 11ms/step - loss: 0.0132 - val_loss: 0.0153\n",
            "Epoch 15/50\n",
            "212/212 [==============================] - 2s 11ms/step - loss: 0.0123 - val_loss: 0.0151\n",
            "Epoch 16/50\n",
            "212/212 [==============================] - 2s 10ms/step - loss: 0.0122 - val_loss: 0.0150\n",
            "Epoch 17/50\n",
            "212/212 [==============================] - 2s 11ms/step - loss: 0.0116 - val_loss: 0.0148\n",
            "Epoch 18/50\n",
            "212/212 [==============================] - 2s 10ms/step - loss: 0.0110 - val_loss: 0.0148\n",
            "Epoch 19/50\n",
            "212/212 [==============================] - 2s 10ms/step - loss: 0.0109 - val_loss: 0.0146\n",
            "Epoch 20/50\n",
            "212/212 [==============================] - 2s 10ms/step - loss: 0.0106 - val_loss: 0.0145\n",
            "Epoch 21/50\n",
            "212/212 [==============================] - 2s 10ms/step - loss: 0.0099 - val_loss: 0.0144\n",
            "Epoch 22/50\n",
            "212/212 [==============================] - 2s 11ms/step - loss: 0.0098 - val_loss: 0.0143\n",
            "Epoch 23/50\n",
            "212/212 [==============================] - 3s 13ms/step - loss: 0.0097 - val_loss: 0.0144\n",
            "Epoch 24/50\n",
            "212/212 [==============================] - 3s 13ms/step - loss: 0.0093 - val_loss: 0.0142\n",
            "Epoch 25/50\n",
            "212/212 [==============================] - 2s 12ms/step - loss: 0.0090 - val_loss: 0.0140\n",
            "Epoch 26/50\n",
            "212/212 [==============================] - 2s 12ms/step - loss: 0.0086 - val_loss: 0.0142\n",
            "Epoch 27/50\n",
            "212/212 [==============================] - 2s 11ms/step - loss: 0.0082 - val_loss: 0.0140\n",
            "Epoch 28/50\n",
            "212/212 [==============================] - 2s 12ms/step - loss: 0.0083 - val_loss: 0.0139\n",
            "Epoch 29/50\n",
            "212/212 [==============================] - 3s 12ms/step - loss: 0.0078 - val_loss: 0.0140\n",
            "Epoch 30/50\n",
            "212/212 [==============================] - 3s 13ms/step - loss: 0.0075 - val_loss: 0.0139\n",
            "Epoch 31/50\n",
            "212/212 [==============================] - 3s 12ms/step - loss: 0.0072 - val_loss: 0.0140\n",
            "Epoch 32/50\n",
            "212/212 [==============================] - 2s 12ms/step - loss: 0.0070 - val_loss: 0.0139\n",
            "Epoch 33/50\n",
            "212/212 [==============================] - 2s 12ms/step - loss: 0.0068 - val_loss: 0.0140\n",
            "Epoch 34/50\n",
            "212/212 [==============================] - 3s 12ms/step - loss: 0.0069 - val_loss: 0.0139\n",
            "Epoch 35/50\n",
            "212/212 [==============================] - 2s 12ms/step - loss: 0.0065 - val_loss: 0.0138\n",
            "Epoch 36/50\n",
            "212/212 [==============================] - 3s 12ms/step - loss: 0.0064 - val_loss: 0.0139\n",
            "Epoch 37/50\n",
            "212/212 [==============================] - 3s 12ms/step - loss: 0.0064 - val_loss: 0.0138\n",
            "Epoch 38/50\n",
            "212/212 [==============================] - 3s 12ms/step - loss: 0.0060 - val_loss: 0.0140\n",
            "Epoch 39/50\n",
            "212/212 [==============================] - 3s 12ms/step - loss: 0.0059 - val_loss: 0.0139\n",
            "Epoch 40/50\n",
            "212/212 [==============================] - 2s 12ms/step - loss: 0.0056 - val_loss: 0.0141\n",
            "Epoch 41/50\n",
            "212/212 [==============================] - 3s 12ms/step - loss: 0.0056 - val_loss: 0.0139\n",
            "Epoch 42/50\n",
            "212/212 [==============================] - 3s 12ms/step - loss: 0.0055 - val_loss: 0.0140\n",
            "Epoch 43/50\n",
            "212/212 [==============================] - 3s 12ms/step - loss: 0.0053 - val_loss: 0.0140\n",
            "Epoch 44/50\n",
            "212/212 [==============================] - 3s 12ms/step - loss: 0.0054 - val_loss: 0.0140\n",
            "Epoch 45/50\n",
            "212/212 [==============================] - 2s 12ms/step - loss: 0.0051 - val_loss: 0.0140\n",
            "Epoch 46/50\n",
            "212/212 [==============================] - 3s 12ms/step - loss: 0.0051 - val_loss: 0.0142\n",
            "Epoch 47/50\n",
            "212/212 [==============================] - 2s 12ms/step - loss: 0.0050 - val_loss: 0.0141\n",
            "Epoch 48/50\n",
            "212/212 [==============================] - 2s 12ms/step - loss: 0.0047 - val_loss: 0.0141\n",
            "Epoch 49/50\n",
            "212/212 [==============================] - 3s 12ms/step - loss: 0.0046 - val_loss: 0.0141\n",
            "Epoch 50/50\n",
            "212/212 [==============================] - 2s 12ms/step - loss: 0.0047 - val_loss: 0.0142\n"
          ]
        }
      ],
      "source": [
        "#Train the model\n",
        "history_b = model_b_ae.fit(X_train, X_train, epochs = 50, batch_size = 16, validation_split = 0.2)"
      ]
    },
    {
      "cell_type": "code",
      "execution_count": null,
      "metadata": {
        "scrolled": true,
        "id": "i5nlQVY9xgiT",
        "outputId": "e8332fb5-bc8a-4614-bc8f-15f16ad17226"
      },
      "outputs": [
        {
          "data": {
            "text/plain": [
              "Text(0.5, 1.0, 'Loss - Epochs: Base Model')"
            ]
          },
          "execution_count": 36,
          "metadata": {},
          "output_type": "execute_result"
        },
        {
          "data": {
            "image/png": "[encoded data removed]",
            "text/plain": [
              "<Figure size 432x288 with 1 Axes>"
            ]
          },
          "metadata": {
            "needs_background": "light"
          },
          "output_type": "display_data"
        }
      ],
      "source": [
        "#Loss - Epochs\n",
        "plt.figure(figsize = (6, 4))\n",
        "plt.plot(history_b.history['loss'], label = 'train')\n",
        "plt.plot(history_b.history['val_loss'], alpha = 0.7, label = 'test')\n",
        "plt.ylabel('loss')\n",
        "plt.xlabel('epoch')\n",
        "plt.legend(['train', 'test'], loc = 'upper left')\n",
        "plt.title('Loss - Epochs: Base Model')"
      ]
    },
    {
      "cell_type": "code",
      "execution_count": null,
      "metadata": {
        "id": "DQWfFHVixgiT"
      },
      "outputs": [],
      "source": [
        "#Prediction on test dataset\n",
        "X_train_hat = model_b_ae.predict(X_train)"
      ]
    },
    {
      "cell_type": "code",
      "execution_count": null,
      "metadata": {
        "id": "fijFEohBxgiT",
        "outputId": "7e378a7c-3797-4dd4-ef5b-f03d3462f2a7"
      },
      "outputs": [
        {
          "data": {
            "text/plain": [
              "0.777778    348971\n",
              "0.555556    261197\n",
              "1.000000    226310\n",
              "0.333333    107557\n",
              "0.111111     56174\n",
              "Name: scaled_rating, dtype: int64"
            ]
          },
          "execution_count": 38,
          "metadata": {},
          "output_type": "execute_result"
        }
      ],
      "source": [
        "#Items w/ a rating greater than 4 can be considered as relevant and the rest as irrelevant\n",
        "#4: 0.78, 5: 1\n",
        "ratings['scaled_rating'].value_counts()"
      ]
    },
    {
      "cell_type": "code",
      "execution_count": null,
      "metadata": {
        "id": "9apcgNr-xgiT"
      },
      "outputs": [],
      "source": [
        "X_train_binary = np.where(X_train >= 0.70, 1, 0)\n",
        "X_train_hat_binary = np.where(X_train_hat >= 0.70, 1, 0)"
      ]
    },
    {
      "cell_type": "code",
      "execution_count": null,
      "metadata": {
        "id": "Tvu1ZgBdxgiU",
        "outputId": "2fd55be4-a077-4822-b790-e1dc95fdd2fb"
      },
      "outputs": [
        {
          "data": {
            "text/plain": [
              "0.7353022884328229"
            ]
          },
          "execution_count": 40,
          "metadata": {},
          "output_type": "execute_result"
        }
      ],
      "source": [
        "#Dice Matching Coefficient\n",
        "# 2 * m_11 / (2 * m_11 + m_10 + m_01)\n",
        "\n",
        "m_11 = np.sum(np.logical_and(X_train_hat_binary, X_train_binary))\n",
        "m_10 = np.sum(X_train_binary) - m_11\n",
        "m_01 = np.sum(X_train_hat_binary) - m_11\n",
        "\n",
        "2 * m_11 / (2 * m_11 + m_10 + m_01)"
      ]
    },
    {
      "cell_type": "code",
      "execution_count": null,
      "metadata": {
        "id": "zgJ_2CUwxgiU",
        "outputId": "6dc1b782-f521-4257-f038-140e88030d53"
      },
      "outputs": [
        {
          "data": {
            "text/plain": [
              "0.8780725489586249"
            ]
          },
          "execution_count": 41,
          "metadata": {},
          "output_type": "execute_result"
        }
      ],
      "source": [
        "#Precision = TP / (TP + FP)\n",
        "# Percentage of recommended items that are relevant to user\n",
        "m_11 / (m_11 + m_01)"
      ]
    },
    {
      "cell_type": "code",
      "execution_count": null,
      "metadata": {
        "id": "UhnFkxhnxgiU",
        "outputId": "39faabeb-0e83-47b9-e763-ac1d91b80358"
      },
      "outputs": [
        {
          "data": {
            "text/plain": [
              "0.6324663784284296"
            ]
          },
          "execution_count": 42,
          "metadata": {},
          "output_type": "execute_result"
        }
      ],
      "source": [
        "#Recall = TP / (TP + FN)\n",
        "# Percentage of items of interest to the user that are recommended\n",
        "m_11 / (m_11 + m_10)"
      ]
    },
    {
      "cell_type": "code",
      "execution_count": null,
      "metadata": {
        "id": "9IDL4996xgiU",
        "outputId": "2f71103d-11da-425c-cb4c-55bcd7b52de6"
      },
      "outputs": [
        {
          "name": "stdout",
          "output_type": "stream",
          "text": [
            "57/57 [==============================] - 0s 3ms/step - loss: 0.0139\n"
          ]
        },
        {
          "data": {
            "text/plain": [
              "0.013866286724805832"
            ]
          },
          "execution_count": 43,
          "metadata": {},
          "output_type": "execute_result"
        }
      ],
      "source": [
        "#Evaluate model on test\n",
        "model_b_ae.evaluate(X_test, X_test)"
      ]
    },
    {
      "cell_type": "code",
      "execution_count": null,
      "metadata": {
        "id": "_y_-AuO_xgiU"
      },
      "outputs": [],
      "source": [
        "#Prediction on test dataset\n",
        "X_test_hat = model_b_ae.predict(X_test)"
      ]
    },
    {
      "cell_type": "code",
      "execution_count": null,
      "metadata": {
        "id": "WVAbcmA8xgiU",
        "outputId": "f0ced1b3-9014-4255-be5c-9171965c172b"
      },
      "outputs": [
        {
          "name": "stdout",
          "output_type": "stream",
          "text": [
            "(1812, 3043)\n",
            "(1812, 3043)\n"
          ]
        }
      ],
      "source": [
        "print(X_test_hat.shape)\n",
        "print(X_test.shape)"
      ]
    },
    {
      "cell_type": "code",
      "execution_count": null,
      "metadata": {
        "id": "4E8uAvA5xgiV"
      },
      "outputs": [],
      "source": [
        "#Convert data into binary data \n",
        "X_test_binary = np.where(X_test >= 0.7, 1, 0)\n",
        "X_test_hat_binary = np.where(X_test_hat >= 0.7, 1, 0)"
      ]
    },
    {
      "cell_type": "code",
      "execution_count": null,
      "metadata": {
        "id": "KS8aWCLexgiV",
        "outputId": "973ada33-8dba-4f0d-816e-cfe1613f676d"
      },
      "outputs": [
        {
          "data": {
            "text/plain": [
              "0.5338881542558452"
            ]
          },
          "execution_count": 47,
          "metadata": {},
          "output_type": "execute_result"
        }
      ],
      "source": [
        "#Dice Matching Coefficient\n",
        "# 2 * m_11 / (2 * m_11 + m_10 + m_01)\n",
        "\n",
        "m_11 = np.sum(np.logical_and(X_test_hat_binary, X_test_binary))\n",
        "m_10 = np.sum(X_test_binary) - m_11\n",
        "m_01 = np.sum(X_test_hat_binary) - m_11\n",
        "\n",
        "2 * m_11 / (2 * m_11 + m_10 + m_01)"
      ]
    },
    {
      "cell_type": "code",
      "execution_count": null,
      "metadata": {
        "id": "WRt8fRHdxgiV",
        "outputId": "fcff2bed-248b-4284-c6b8-a7fbdf884490"
      },
      "outputs": [
        {
          "data": {
            "text/plain": [
              "0.7190740722468352"
            ]
          },
          "execution_count": 48,
          "metadata": {},
          "output_type": "execute_result"
        }
      ],
      "source": [
        "#Precision = TP / (TP + FP)\n",
        "# Percentage of recommended items that are relevant to user\n",
        "m_11 / (m_11 + m_01)"
      ]
    },
    {
      "cell_type": "code",
      "execution_count": null,
      "metadata": {
        "id": "yAhzjS4sxgiV",
        "outputId": "f76ff429-8deb-4e71-d8f3-8567a2ae02ed"
      },
      "outputs": [
        {
          "data": {
            "text/plain": [
              "0.4245517144954385"
            ]
          },
          "execution_count": 49,
          "metadata": {},
          "output_type": "execute_result"
        }
      ],
      "source": [
        "#Recall = TP / (TP + FN)\n",
        "# Percentage of items of interest to the user that are recommended\n",
        "m_11 / (m_11 + m_10)"
      ]
    },
    {
      "cell_type": "markdown",
      "metadata": {
        "id": "YZoJzRbdxgiV"
      },
      "source": [
        "### Deep Network"
      ]
    },
    {
      "cell_type": "code",
      "execution_count": null,
      "metadata": {
        "id": "2xp-BukBxgiW",
        "outputId": "d5372be3-707c-491b-a46e-8cf800e9dff1"
      },
      "outputs": [
        {
          "name": "stdout",
          "output_type": "stream",
          "text": [
            "Model: \"sequential_5\"\n",
            "_________________________________________________________________\n",
            "Layer (type)                 Output Shape              Param #   \n",
            "=================================================================\n",
            "sequential_3 (Sequential)    (None, 128)               1624192   \n",
            "_________________________________________________________________\n",
            "sequential_4 (Sequential)    (None, 3043)              1627107   \n",
            "=================================================================\n",
            "Total params: 3,251,299\n",
            "Trainable params: 3,251,299\n",
            "Non-trainable params: 0\n",
            "_________________________________________________________________\n"
          ]
        }
      ],
      "source": [
        "#Define the Model Architecture\n",
        "#Encoder\n",
        "model_dp_encoder = keras.models.Sequential()\n",
        "weight_initializer = keras.initializers.HeNormal()\n",
        "model_dp_encoder.add(keras.layers.Dense(512, \n",
        "                                       input_dim = int(X_train.shape[1]), \n",
        "                                       activation = \"tanh\", \n",
        "                                       kernel_initializer = weight_initializer))\n",
        "model_dp_encoder.add(keras.layers.Dropout(0.1))\n",
        "model_dp_encoder.add(keras.layers.Dense(128, \n",
        "                                       activation = \"tanh\", \n",
        "                                       kernel_initializer = weight_initializer))\n",
        "\n",
        "#Decoder\n",
        "model_dp_decoder = keras.models.Sequential()\n",
        "weight_initializer = keras.initializers.HeNormal()\n",
        "model_dp_decoder.add(keras.layers.Dense(512, \n",
        "                                       input_dim = 128, \n",
        "                                       activation = \"tanh\", \n",
        "                                       kernel_initializer = weight_initializer))\n",
        "model_dp_encoder.add(keras.layers.Dropout(0.1))\n",
        "model_dp_decoder.add(keras.layers.Dense(int(X_train.shape[1]), \n",
        "                                       activation = \"sigmoid\", \n",
        "                                       kernel_initializer = weight_initializer))\n",
        "\n",
        "#Auto-encoder\n",
        "model_dp_ae = keras.models.Sequential([model_dp_encoder, model_dp_decoder])\n",
        "model_dp_ae.summary()"
      ]
    },
    {
      "cell_type": "code",
      "execution_count": null,
      "metadata": {
        "id": "pqhxZFEXxgiW"
      },
      "outputs": [],
      "source": [
        "#Configure the model\n",
        "opt = keras.optimizers.Adam(learning_rate = 0.0001) #learning rate\n",
        "model_dp_ae.compile(optimizer = opt, loss = 'mean_squared_error')"
      ]
    },
    {
      "cell_type": "code",
      "execution_count": null,
      "metadata": {
        "id": "qCNVeRBZxgiW",
        "outputId": "29fd94be-0998-422d-b755-0c506b22036b"
      },
      "outputs": [
        {
          "name": "stdout",
          "output_type": "stream",
          "text": [
            "Epoch 1/100\n",
            "106/106 [==============================] - 3s 28ms/step - loss: 0.1814 - val_loss: 0.0285\n",
            "Epoch 2/100\n",
            "106/106 [==============================] - 3s 29ms/step - loss: 0.0277 - val_loss: 0.0256\n",
            "Epoch 3/100\n",
            "106/106 [==============================] - 3s 28ms/step - loss: 0.0250 - val_loss: 0.0249\n",
            "Epoch 4/100\n",
            "106/106 [==============================] - 3s 28ms/step - loss: 0.0244 - val_loss: 0.0242\n",
            "Epoch 5/100\n",
            "106/106 [==============================] - 3s 28ms/step - loss: 0.0240 - val_loss: 0.0234\n",
            "Epoch 6/100\n",
            "106/106 [==============================] - 3s 30ms/step - loss: 0.0236 - val_loss: 0.0227\n",
            "Epoch 7/100\n",
            "106/106 [==============================] - 4s 37ms/step - loss: 0.0230 - val_loss: 0.0223\n",
            "Epoch 8/100\n",
            "106/106 [==============================] - 4s 34ms/step - loss: 0.0217 - val_loss: 0.0220\n",
            "Epoch 9/100\n",
            "106/106 [==============================] - 4s 35ms/step - loss: 0.0222 - val_loss: 0.0219\n",
            "Epoch 10/100\n",
            "106/106 [==============================] - 3s 33ms/step - loss: 0.0214 - val_loss: 0.0218\n",
            "Epoch 11/100\n",
            "106/106 [==============================] - 3s 29ms/step - loss: 0.0211 - val_loss: 0.0216\n",
            "Epoch 12/100\n",
            "106/106 [==============================] - 3s 28ms/step - loss: 0.0214 - val_loss: 0.0215\n",
            "Epoch 13/100\n",
            "106/106 [==============================] - 3s 29ms/step - loss: 0.0217 - val_loss: 0.0213\n",
            "Epoch 14/100\n",
            "106/106 [==============================] - 3s 27ms/step - loss: 0.0211 - val_loss: 0.0210\n",
            "Epoch 15/100\n",
            "106/106 [==============================] - 3s 28ms/step - loss: 0.0207 - val_loss: 0.0208\n",
            "Epoch 16/100\n",
            "106/106 [==============================] - 3s 26ms/step - loss: 0.0208 - val_loss: 0.0206\n",
            "Epoch 17/100\n",
            "106/106 [==============================] - 3s 26ms/step - loss: 0.0204 - val_loss: 0.0204\n",
            "Epoch 18/100\n",
            "106/106 [==============================] - 3s 26ms/step - loss: 0.0209 - val_loss: 0.0202\n",
            "Epoch 19/100\n",
            "106/106 [==============================] - 3s 26ms/step - loss: 0.0198 - val_loss: 0.0201\n",
            "Epoch 20/100\n",
            "106/106 [==============================] - 3s 27ms/step - loss: 0.0203 - val_loss: 0.0199\n",
            "Epoch 21/100\n",
            "106/106 [==============================] - 3s 27ms/step - loss: 0.0198 - val_loss: 0.0198\n",
            "Epoch 22/100\n",
            "106/106 [==============================] - 3s 26ms/step - loss: 0.0199 - val_loss: 0.0196\n",
            "Epoch 23/100\n",
            "106/106 [==============================] - 3s 26ms/step - loss: 0.0194 - val_loss: 0.0195\n",
            "Epoch 24/100\n",
            "106/106 [==============================] - 3s 26ms/step - loss: 0.0189 - val_loss: 0.0194\n",
            "Epoch 25/100\n",
            "106/106 [==============================] - 3s 26ms/step - loss: 0.0194 - val_loss: 0.0192\n",
            "Epoch 26/100\n",
            "106/106 [==============================] - 3s 28ms/step - loss: 0.0192 - val_loss: 0.0191\n",
            "Epoch 27/100\n",
            "106/106 [==============================] - 3s 28ms/step - loss: 0.0189 - val_loss: 0.0190\n",
            "Epoch 28/100\n",
            "106/106 [==============================] - 3s 27ms/step - loss: 0.0189 - val_loss: 0.0189\n",
            "Epoch 29/100\n",
            "106/106 [==============================] - 3s 26ms/step - loss: 0.0189 - val_loss: 0.0187\n",
            "Epoch 30/100\n",
            "106/106 [==============================] - 3s 26ms/step - loss: 0.0187 - val_loss: 0.0186\n",
            "Epoch 31/100\n",
            "106/106 [==============================] - 3s 27ms/step - loss: 0.0179 - val_loss: 0.0185\n",
            "Epoch 32/100\n",
            "106/106 [==============================] - 3s 28ms/step - loss: 0.0188 - val_loss: 0.0184\n",
            "Epoch 33/100\n",
            "106/106 [==============================] - 3s 27ms/step - loss: 0.0179 - val_loss: 0.0183\n",
            "Epoch 34/100\n",
            "106/106 [==============================] - 3s 26ms/step - loss: 0.0180 - val_loss: 0.0182\n",
            "Epoch 35/100\n",
            "106/106 [==============================] - 3s 26ms/step - loss: 0.0178 - val_loss: 0.0181\n",
            "Epoch 36/100\n",
            "106/106 [==============================] - 3s 26ms/step - loss: 0.0180 - val_loss: 0.0181\n",
            "Epoch 37/100\n",
            "106/106 [==============================] - 3s 27ms/step - loss: 0.0179 - val_loss: 0.0180\n",
            "Epoch 38/100\n",
            "106/106 [==============================] - 3s 28ms/step - loss: 0.0181 - val_loss: 0.0179\n",
            "Epoch 39/100\n",
            "106/106 [==============================] - 3s 26ms/step - loss: 0.0175 - val_loss: 0.0178\n",
            "Epoch 40/100\n",
            "106/106 [==============================] - 3s 26ms/step - loss: 0.0174 - val_loss: 0.0177\n",
            "Epoch 41/100\n",
            "106/106 [==============================] - 3s 26ms/step - loss: 0.0171 - val_loss: 0.0177\n",
            "Epoch 42/100\n",
            "106/106 [==============================] - 3s 26ms/step - loss: 0.0167 - val_loss: 0.0176\n",
            "Epoch 43/100\n",
            "106/106 [==============================] - 3s 28ms/step - loss: 0.0175 - val_loss: 0.0175\n",
            "Epoch 44/100\n",
            "106/106 [==============================] - 3s 29ms/step - loss: 0.0166 - val_loss: 0.0174\n",
            "Epoch 45/100\n",
            "106/106 [==============================] - 3s 26ms/step - loss: 0.0172 - val_loss: 0.0174\n",
            "Epoch 46/100\n",
            "106/106 [==============================] - 3s 26ms/step - loss: 0.0168 - val_loss: 0.0173\n",
            "Epoch 47/100\n",
            "106/106 [==============================] - 3s 26ms/step - loss: 0.0166 - val_loss: 0.0172\n",
            "Epoch 48/100\n",
            "106/106 [==============================] - 3s 27ms/step - loss: 0.0169 - val_loss: 0.0172\n",
            "Epoch 49/100\n",
            "106/106 [==============================] - 3s 29ms/step - loss: 0.0168 - val_loss: 0.0171\n",
            "Epoch 50/100\n",
            "106/106 [==============================] - 3s 29ms/step - loss: 0.0166 - val_loss: 0.0171\n",
            "Epoch 51/100\n",
            "106/106 [==============================] - 3s 28ms/step - loss: 0.0162 - val_loss: 0.0170\n",
            "Epoch 52/100\n",
            "106/106 [==============================] - 3s 27ms/step - loss: 0.0162 - val_loss: 0.0170\n",
            "Epoch 53/100\n",
            "106/106 [==============================] - 3s 27ms/step - loss: 0.0164 - val_loss: 0.0169\n",
            "Epoch 54/100\n",
            "106/106 [==============================] - 3s 28ms/step - loss: 0.0165 - val_loss: 0.0168\n",
            "Epoch 55/100\n",
            "106/106 [==============================] - 3s 28ms/step - loss: 0.0162 - val_loss: 0.0168\n",
            "Epoch 56/100\n",
            "106/106 [==============================] - 3s 27ms/step - loss: 0.0159 - val_loss: 0.0167\n",
            "Epoch 57/100\n",
            "106/106 [==============================] - 3s 27ms/step - loss: 0.0161 - val_loss: 0.0167\n",
            "Epoch 58/100\n",
            "106/106 [==============================] - 3s 27ms/step - loss: 0.0160 - val_loss: 0.0166\n",
            "Epoch 59/100\n",
            "106/106 [==============================] - 3s 28ms/step - loss: 0.0158 - val_loss: 0.0166\n",
            "Epoch 60/100\n",
            "106/106 [==============================] - 3s 29ms/step - loss: 0.0159 - val_loss: 0.0165\n",
            "Epoch 61/100\n",
            "106/106 [==============================] - 3s 29ms/step - loss: 0.0156 - val_loss: 0.0165\n",
            "Epoch 62/100\n",
            "106/106 [==============================] - 3s 27ms/step - loss: 0.0156 - val_loss: 0.0164\n",
            "Epoch 63/100\n",
            "106/106 [==============================] - 3s 24ms/step - loss: 0.0158 - val_loss: 0.0164\n",
            "Epoch 64/100\n",
            "106/106 [==============================] - 3s 24ms/step - loss: 0.0156 - val_loss: 0.0163\n",
            "Epoch 65/100\n",
            "106/106 [==============================] - 3s 25ms/step - loss: 0.0152 - val_loss: 0.0163\n",
            "Epoch 66/100\n",
            "106/106 [==============================] - 3s 26ms/step - loss: 0.0152 - val_loss: 0.0163\n",
            "Epoch 67/100\n",
            "106/106 [==============================] - 3s 24ms/step - loss: 0.0153 - val_loss: 0.0162\n",
            "Epoch 68/100\n",
            "106/106 [==============================] - 3s 24ms/step - loss: 0.0153 - val_loss: 0.0162\n",
            "Epoch 69/100\n",
            "106/106 [==============================] - 3s 24ms/step - loss: 0.0153 - val_loss: 0.0161\n",
            "Epoch 70/100\n",
            "106/106 [==============================] - 3s 24ms/step - loss: 0.0149 - val_loss: 0.0161\n",
            "Epoch 71/100\n",
            "106/106 [==============================] - 3s 26ms/step - loss: 0.0148 - val_loss: 0.0161\n",
            "Epoch 72/100\n",
            "106/106 [==============================] - 3s 25ms/step - loss: 0.0149 - val_loss: 0.0160\n",
            "Epoch 73/100\n",
            "106/106 [==============================] - 3s 25ms/step - loss: 0.0146 - val_loss: 0.0160\n",
            "Epoch 74/100\n",
            "106/106 [==============================] - 3s 24ms/step - loss: 0.0148 - val_loss: 0.0160\n",
            "Epoch 75/100\n",
            "106/106 [==============================] - 3s 25ms/step - loss: 0.0145 - val_loss: 0.0159\n",
            "Epoch 76/100\n",
            "106/106 [==============================] - 3s 24ms/step - loss: 0.0142 - val_loss: 0.0159\n",
            "Epoch 77/100\n",
            "106/106 [==============================] - 3s 25ms/step - loss: 0.0147 - val_loss: 0.0159\n",
            "Epoch 78/100\n",
            "106/106 [==============================] - 3s 26ms/step - loss: 0.0145 - val_loss: 0.0158\n",
            "Epoch 79/100\n",
            "106/106 [==============================] - 3s 24ms/step - loss: 0.0148 - val_loss: 0.0158\n",
            "Epoch 80/100\n",
            "106/106 [==============================] - 3s 25ms/step - loss: 0.0144 - val_loss: 0.0157\n",
            "Epoch 81/100\n",
            "106/106 [==============================] - ETA: 0s - loss: 0.014 - 3s 25ms/step - loss: 0.0146 - val_loss: 0.0157\n",
            "Epoch 82/100\n",
            "106/106 [==============================] - 3s 24ms/step - loss: 0.0144 - val_loss: 0.0157\n",
            "Epoch 83/100\n",
            "106/106 [==============================] - 3s 24ms/step - loss: 0.0139 - val_loss: 0.0156\n",
            "Epoch 84/100\n",
            "106/106 [==============================] - 3s 25ms/step - loss: 0.0144 - val_loss: 0.0156\n",
            "Epoch 85/100\n",
            "106/106 [==============================] - 3s 24ms/step - loss: 0.0139 - val_loss: 0.0156\n",
            "Epoch 86/100\n",
            "106/106 [==============================] - 3s 24ms/step - loss: 0.0144 - val_loss: 0.0156\n",
            "Epoch 87/100\n",
            "106/106 [==============================] - 3s 24ms/step - loss: 0.0140 - val_loss: 0.0155\n",
            "Epoch 88/100\n",
            "106/106 [==============================] - 3s 24ms/step - loss: 0.0138 - val_loss: 0.0155\n",
            "Epoch 89/100\n",
            "106/106 [==============================] - 3s 25ms/step - loss: 0.0140 - val_loss: 0.0155\n",
            "Epoch 90/100\n",
            "106/106 [==============================] - 3s 26ms/step - loss: 0.0137 - val_loss: 0.0154\n",
            "Epoch 91/100\n",
            "106/106 [==============================] - 3s 24ms/step - loss: 0.0140 - val_loss: 0.0154\n",
            "Epoch 92/100\n",
            "106/106 [==============================] - 3s 25ms/step - loss: 0.0135 - val_loss: 0.0154\n",
            "Epoch 93/100\n",
            "106/106 [==============================] - 3s 28ms/step - loss: 0.0138 - val_loss: 0.0154\n",
            "Epoch 94/100\n",
            "106/106 [==============================] - 3s 28ms/step - loss: 0.0138 - val_loss: 0.0153\n",
            "Epoch 95/100\n",
            "106/106 [==============================] - 3s 26ms/step - loss: 0.0133 - val_loss: 0.0153\n",
            "Epoch 96/100\n",
            "106/106 [==============================] - 3s 27ms/step - loss: 0.0136 - val_loss: 0.0153\n",
            "Epoch 97/100\n",
            "106/106 [==============================] - 3s 25ms/step - loss: 0.0134 - val_loss: 0.0153\n",
            "Epoch 98/100\n",
            "106/106 [==============================] - 3s 24ms/step - loss: 0.0132 - val_loss: 0.0153\n",
            "Epoch 99/100\n",
            "106/106 [==============================] - 3s 24ms/step - loss: 0.0134 - val_loss: 0.0152\n",
            "Epoch 100/100\n",
            "106/106 [==============================] - 3s 24ms/step - loss: 0.0131 - val_loss: 0.0152\n"
          ]
        }
      ],
      "source": [
        "#Train the model\n",
        "history_dp = model_dp_ae.fit(X_train, X_train, epochs = 100, batch_size = 32, validation_split = 0.2)"
      ]
    },
    {
      "cell_type": "code",
      "execution_count": null,
      "metadata": {
        "id": "A0vMm1xgxgiW",
        "outputId": "8274aa8a-d4b9-48f3-e5c7-421dbb6d5644"
      },
      "outputs": [
        {
          "data": {
            "text/plain": [
              "Text(0.5, 1.0, 'Loss - Epochs: Deep Network')"
            ]
          },
          "execution_count": 53,
          "metadata": {},
          "output_type": "execute_result"
        },
        {
          "data": {
            "image/png": "[encoded data removed]",
            "text/plain": [
              "<Figure size 432x288 with 1 Axes>"
            ]
          },
          "metadata": {
            "needs_background": "light"
          },
          "output_type": "display_data"
        }
      ],
      "source": [
        "#Loss - Epochs\n",
        "plt.figure(figsize = (6, 4))\n",
        "plt.plot(history_dp.history['loss'], label = 'train')\n",
        "plt.plot(history_dp.history['val_loss'], alpha = 0.7, label = 'test')\n",
        "plt.ylabel('loss')\n",
        "plt.xlabel('epoch')\n",
        "plt.legend(['train', 'test'], loc = 'upper left')\n",
        "plt.title('Loss - Epochs: Deep Network')"
      ]
    },
    {
      "cell_type": "code",
      "execution_count": null,
      "metadata": {
        "id": "7-VmlcKYxgiW"
      },
      "outputs": [],
      "source": [
        "#Prediction on test dataset\n",
        "X_test_hat = model_dp_ae.predict(X_test)"
      ]
    },
    {
      "cell_type": "code",
      "execution_count": null,
      "metadata": {
        "id": "RAM-oriFxgiW"
      },
      "outputs": [],
      "source": [
        "#Convert data into binary data \n",
        "X_test_hat_binary = np.where(X_test_hat >= 0.7, 1, 0)"
      ]
    },
    {
      "cell_type": "code",
      "execution_count": null,
      "metadata": {
        "id": "G6TPE1lcxgiW",
        "outputId": "11239edf-76b9-401e-e6cb-521b007668ae"
      },
      "outputs": [
        {
          "data": {
            "text/plain": [
              "0.3389470420891385"
            ]
          },
          "execution_count": 56,
          "metadata": {},
          "output_type": "execute_result"
        }
      ],
      "source": [
        "#Dice Matching Coefficient\n",
        "# 2 * m_11 / (2 * m_11 + m_10 + m_01)\n",
        "\n",
        "m_11 = np.sum(np.logical_and(X_test_hat_binary, X_test_binary))\n",
        "m_10 = np.sum(X_test_binary) - m_11\n",
        "m_01 = np.sum(X_test_hat_binary) - m_11\n",
        "\n",
        "2 * m_11 / (2 * m_11 + m_10 + m_01)"
      ]
    },
    {
      "cell_type": "code",
      "execution_count": null,
      "metadata": {
        "id": "U1PwdOfVxgiX",
        "outputId": "4eee4980-50d3-421c-ec01-903f78e288d2"
      },
      "outputs": [
        {
          "data": {
            "text/plain": [
              "0.7794715873348711"
            ]
          },
          "execution_count": 57,
          "metadata": {},
          "output_type": "execute_result"
        }
      ],
      "source": [
        "#Precision = TP / (TP + FP)\n",
        "# Percentage of recommended items that are relevant to user\n",
        "m_11 / (m_11 + m_01)"
      ]
    },
    {
      "cell_type": "code",
      "execution_count": null,
      "metadata": {
        "id": "WUyOAOhfxgiX",
        "outputId": "229254f0-c01f-458b-f059-ef636c49afec"
      },
      "outputs": [
        {
          "data": {
            "text/plain": [
              "0.21655772658953476"
            ]
          },
          "execution_count": 58,
          "metadata": {},
          "output_type": "execute_result"
        }
      ],
      "source": [
        "#Recall = TP / (TP + FN)\n",
        "# Percentage of items of interest to the user that are recommended\n",
        "m_11 / (m_11 + m_10)"
      ]
    },
    {
      "cell_type": "markdown",
      "metadata": {
        "id": "vveY13vgxgiX"
      },
      "source": [
        "### Recommendation System based on Auto-encoders"
      ]
    },
    {
      "cell_type": "code",
      "execution_count": null,
      "metadata": {
        "id": "q8cLC7MKxgiX"
      },
      "outputs": [],
      "source": [
        "my_rating = np.zeros((1, X_train.shape[1]))"
      ]
    },
    {
      "cell_type": "code",
      "execution_count": null,
      "metadata": {
        "id": "FmQ1D50mxgiX",
        "outputId": "2cec61af-d249-41e6-b32a-86cc5100d63d"
      },
      "outputs": [
        {
          "data": {
            "text/plain": [
              "array([   1,   44,  211,  494,  896,  930, 1217, 1280, 1709, 2291, 2421,\n",
              "       2741], dtype=int64)"
            ]
          },
          "execution_count": 60,
          "metadata": {},
          "output_type": "execute_result"
        }
      ],
      "source": [
        "#Some of my favorite movies:\n",
        "#2::Jumanji (1995)::Adventure|Children's|Fantasy\n",
        "#47::Seven (Se7en) (1995)::Crime|Thriller\n",
        "#260::Star Wars: Episode IV - A New Hope (1977)::Action|Adventure|Fantasy|Sci-Fi\n",
        "#586::Home Alone (1990)::Children's|Comedy\n",
        "#1210::Star Wars: Episode VI - Return of the Jedi (1983)::Action|Adventure|Romance|Sci-Fi|War\n",
        "#1246::Dead Poets Society (1989)::Drama\n",
        "#1625::Game, The (1997)::Mystery|Thriller\n",
        "#1707::Home Alone 3 (1997)::Children's|Comedy\n",
        "#2278::Ronin (1998)::Action|Crime|Thriller\n",
        "#2986::Robocop 2 (1990)::Action|Crime|Sci-Fi\n",
        "#3147::Green Mile, The (1999)::Drama|Thriller\n",
        "#3578::Gladiator (2000)::Action|Drama\n",
        "\n",
        "my_favorites = np.where((movies_indx == 1) | (movies_indx == 46) | (movies_indx == 259) |\n",
        "                        (movies_indx == 585) | (movies_indx == 1209) | (movies_indx == 1245) |\n",
        "                        (movies_indx == 1624) | (movies_indx == 1706) | (movies_indx == 2277) |\n",
        "                        (movies_indx == 2985) | (movies_indx == 3146) | (movies_indx == 3577))[0]\n",
        "my_favorites"
      ]
    },
    {
      "cell_type": "code",
      "execution_count": null,
      "metadata": {
        "id": "UzB9cqkIxgiY",
        "outputId": "7bace9b9-23e4-42d6-c028-406b6987c4cc"
      },
      "outputs": [
        {
          "data": {
            "text/plain": [
              "array([[0., 1., 0., ..., 0., 0., 0.]])"
            ]
          },
          "execution_count": 61,
          "metadata": {},
          "output_type": "execute_result"
        }
      ],
      "source": [
        "my_rating[:, my_favorites] = 1\n",
        "my_rating"
      ]
    },
    {
      "cell_type": "code",
      "execution_count": null,
      "metadata": {
        "id": "WUwxo3emxgiY",
        "outputId": "728c1860-1036-4423-c1a0-292af3ebe293"
      },
      "outputs": [
        {
          "data": {
            "text/plain": [
              "(1, 3043)"
            ]
          },
          "execution_count": 62,
          "metadata": {},
          "output_type": "execute_result"
        }
      ],
      "source": [
        "my_rating.shape"
      ]
    },
    {
      "cell_type": "code",
      "execution_count": null,
      "metadata": {
        "id": "e_2LTD1sxgiY"
      },
      "outputs": [],
      "source": [
        "recommendation = model_b_ae.predict(my_rating)"
      ]
    },
    {
      "cell_type": "code",
      "execution_count": null,
      "metadata": {
        "id": "MDNUWHPQxgiZ",
        "outputId": "4005fcc9-d946-4bb3-b382-93fd16bb2268"
      },
      "outputs": [
        {
          "data": {
            "text/plain": [
              "(1, 3043)"
            ]
          },
          "execution_count": 64,
          "metadata": {},
          "output_type": "execute_result"
        }
      ],
      "source": [
        "recommendation.shape"
      ]
    },
    {
      "cell_type": "code",
      "execution_count": null,
      "metadata": {
        "id": "EKpea0IWxgiZ",
        "outputId": "e269566c-4442-4fe2-ddf7-cd9ce3ceb0d3"
      },
      "outputs": [
        {
          "data": {
            "text/plain": [
              "array([[0.01600298, 0.03163001, 0.00502649, ..., 0.00031778, 0.00174829,\n",
              "        0.00531515]], dtype=float32)"
            ]
          },
          "execution_count": 65,
          "metadata": {},
          "output_type": "execute_result"
        }
      ],
      "source": [
        "recommendation"
      ]
    },
    {
      "cell_type": "code",
      "execution_count": null,
      "metadata": {
        "id": "UzYDBLcxxgiZ"
      },
      "outputs": [],
      "source": [
        "#intro to argsort\n",
        "a = np.array([5, 8, 9, 10, 1, 23, 10, 7, 3, 10, 15])"
      ]
    },
    {
      "cell_type": "code",
      "execution_count": null,
      "metadata": {
        "id": "Q6Bh1s83xgia",
        "outputId": "ef3048ef-1569-4df2-d7af-1a3d9ae6b997"
      },
      "outputs": [
        {
          "data": {
            "text/plain": [
              "array([ 4,  8,  0,  7,  1,  2,  3,  6,  9, 10,  5], dtype=int64)"
            ]
          },
          "execution_count": 67,
          "metadata": {},
          "output_type": "execute_result"
        }
      ],
      "source": [
        "np.argsort(a)"
      ]
    },
    {
      "cell_type": "code",
      "execution_count": null,
      "metadata": {
        "id": "oB37HozQxgia",
        "outputId": "2aeda31b-7647-44a5-8e62-9c8cdc36d5de"
      },
      "outputs": [
        {
          "data": {
            "text/plain": [
              "array([ 1,  3,  5,  7,  8,  9, 10, 10, 10, 15, 23])"
            ]
          },
          "execution_count": 68,
          "metadata": {},
          "output_type": "execute_result"
        }
      ],
      "source": [
        "a[np.argsort(a)]"
      ]
    },
    {
      "cell_type": "code",
      "execution_count": null,
      "metadata": {
        "id": "Ey5ArNNLxgia",
        "outputId": "a23a6800-9c80-4796-97b4-73e91556ac3c"
      },
      "outputs": [
        {
          "data": {
            "text/plain": [
              "array([10, 10, 10, 15, 23])"
            ]
          },
          "execution_count": 69,
          "metadata": {},
          "output_type": "execute_result"
        }
      ],
      "source": [
        "a[np.argsort(a)][-5 : ]"
      ]
    },
    {
      "cell_type": "code",
      "execution_count": null,
      "metadata": {
        "id": "ZyxLdx42xgia"
      },
      "outputs": [],
      "source": [
        "#Indices of first 25 recommended movies\n",
        "ix = np.argsort(recommendation[0])[-25 : ]"
      ]
    },
    {
      "cell_type": "code",
      "execution_count": null,
      "metadata": {
        "id": "hLLb2ZTexgia",
        "outputId": "eeae1d2c-2e82-4ef9-d54b-d4c5f9068234"
      },
      "outputs": [
        {
          "data": {
            "text/plain": [
              "(25,)"
            ]
          },
          "execution_count": 71,
          "metadata": {},
          "output_type": "execute_result"
        }
      ],
      "source": [
        "ix.shape"
      ]
    },
    {
      "cell_type": "code",
      "execution_count": null,
      "metadata": {
        "id": "LqZ-qCDAxgia",
        "outputId": "2b13b16e-36b0-442b-fe9b-991eefd311d0"
      },
      "outputs": [
        {
          "name": "stdout",
          "output_type": "stream",
          "text": [
            "Jumanji (1995)\n",
            "Magnolia (1999)\n",
            "After Life (1998)\n",
            "Chamber, The (1996)\n",
            "Rules of Engagement (2000)\n",
            "Star Wars: Episode I - The Phantom Menace (1999)\n",
            "Thomas Crown Affair, The (1968)\n",
            "NeverEnding Story, The (1984)\n",
            "Jesus' Son (1999)\n",
            "Talented Mr. Ripley, The (1999)\n",
            "Ghost Dog: The Way of the Samurai (1999)\n",
            "Professional, The (a.k.a. Leon: The Professional) (1994)\n",
            "Sling Blade (1996)\n",
            "Toy Story 2 (1999)\n",
            "Home Alone (1990)\n",
            "Robocop 2 (1990)\n",
            "Godfather, The (1972)\n",
            "Ronin (1998)\n",
            "Game, The (1997)\n",
            "Dead Poets Society (1989)\n",
            "Gladiator (2000)\n",
            "Seven (Se7en) (1995)\n",
            "Star Wars: Episode IV - A New Hope (1977)\n",
            "Green Mile, The (1999)\n",
            "Star Wars: Episode VI - Return of the Jedi (1983)\n"
          ]
        }
      ],
      "source": [
        "for i in ix:\n",
        "    print(movies.loc[movies['movie_id'] == movies_indx[i] + 1, 'title'].values[0])"
      ]
    }
  ],
  "metadata": {
    "kernelspec": {
      "display_name": "Python 3",
      "language": "python",
      "name": "python3"
    },
    "language_info": {
      "codemirror_mode": {
        "name": "ipython",
        "version": 3
      },
      "file_extension": ".py",
      "mimetype": "text/x-python",
      "name": "python",
      "nbconvert_exporter": "python",
      "pygments_lexer": "ipython3",
      "version": "3.8.5"
    },
    "colab": {
      "provenance": []
    }
  },
  "nbformat": 4,
  "nbformat_minor": 0
}